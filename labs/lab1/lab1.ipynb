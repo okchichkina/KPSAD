{
 "cells": [
  {
   "cell_type": "markdown",
   "id": "ef3115e8-6229-4b1c-bdcd-d4c9242df1ee",
   "metadata": {},
   "source": [
    "### Подготовила: Чичкина О.К.\n",
    "### Студ. билет: 1032217621"
   ]
  },
  {
   "cell_type": "markdown",
   "id": "4ffe5217-1cb4-4cde-91db-ff8885ec6036",
   "metadata": {},
   "source": [
    "#### Примеры определения типа числовых величин"
   ]
  },
  {
   "cell_type": "code",
   "execution_count": 2,
   "id": "8266f66c-dc7c-4816-824f-1b72591d1fab",
   "metadata": {},
   "outputs": [
    {
     "data": {
      "text/plain": [
       "(Int64, Float64, Float64, ComplexF64, Irrational{:π})"
      ]
     },
     "execution_count": 2,
     "metadata": {},
     "output_type": "execute_result"
    }
   ],
   "source": [
    "typeof(3), typeof(3.5), typeof(3/3.55), typeof(sqrt(3+4im)), typeof(pi)"
   ]
  },
  {
   "cell_type": "code",
   "execution_count": 3,
   "id": "89918827-5b8b-450b-83c8-b1e9d06abf4e",
   "metadata": {},
   "outputs": [
    {
     "data": {
      "text/plain": [
       "(Inf, -Inf, NaN)"
      ]
     },
     "execution_count": 3,
     "metadata": {},
     "output_type": "execute_result"
    }
   ],
   "source": [
    "1.0/0.0, 1.0/(-0.0), 0.0/0.0"
   ]
  },
  {
   "cell_type": "code",
   "execution_count": 4,
   "id": "d49b2245-d4b6-4592-8b43-af0df477b21e",
   "metadata": {},
   "outputs": [
    {
     "data": {
      "text/plain": [
       "(Float64, Float64, Float64)"
      ]
     },
     "execution_count": 4,
     "metadata": {},
     "output_type": "execute_result"
    }
   ],
   "source": [
    "typeof(1.0/0.0), typeof(1.0/-0.0), typeof(0.0/0.0)"
   ]
  },
  {
   "cell_type": "code",
   "execution_count": 5,
   "id": "ecb8625a-2dfd-4e09-8ccd-bf0d3b20d941",
   "metadata": {},
   "outputs": [
    {
     "name": "stdout",
     "output_type": "stream",
     "text": [
      "   Int8: [-128,127]\n",
      "  Int16: [-32768,32767]\n",
      "  Int32: [-2147483648,2147483647]\n",
      "  Int64: [-9223372036854775808,9223372036854775807]\n",
      " Int128: [-170141183460469231731687303715884105728,170141183460469231731687303715884105727]\n",
      "  UInt8: [0,255]\n",
      " UInt16: [0,65535]\n",
      " UInt32: [0,4294967295]\n",
      " UInt64: [0,18446744073709551615]\n",
      "UInt128: [0,340282366920938463463374607431768211455]\n"
     ]
    }
   ],
   "source": [
    "for T in [Int8, Int16, Int32, Int64, Int128, UInt8, UInt16, UInt32, UInt64, UInt128]\n",
    "    println(\"$(lpad(T,7)): [$(typemin(T)),$(typemax(T))]\")\n",
    "end"
   ]
  },
  {
   "cell_type": "markdown",
   "id": "b789ef50-bb73-4ca7-bd72-736dbab19a56",
   "metadata": {},
   "source": [
    "#### Примеры приведения аргументов к одному типу"
   ]
  },
  {
   "cell_type": "code",
   "execution_count": 6,
   "id": "b127d2a2-c49f-4600-b842-771a331a026d",
   "metadata": {},
   "outputs": [
    {
     "data": {
      "text/plain": [
       "(2, '\\x02', Char)"
      ]
     },
     "execution_count": 6,
     "metadata": {},
     "output_type": "execute_result"
    }
   ],
   "source": [
    "Int64(2.0), Char(2), typeof(Char(2))"
   ]
  },
  {
   "cell_type": "code",
   "execution_count": 7,
   "id": "7aad7179-4f3b-49b1-a8ac-8bd486efac7c",
   "metadata": {},
   "outputs": [
    {
     "data": {
      "text/plain": [
       "(2, '\\x02')"
      ]
     },
     "execution_count": 7,
     "metadata": {},
     "output_type": "execute_result"
    }
   ],
   "source": [
    "convert(Int64, 2.0), convert(Char,2)"
   ]
  },
  {
   "cell_type": "code",
   "execution_count": 8,
   "id": "7bd8818b-443b-4615-8a9c-d1c75d3a7c15",
   "metadata": {},
   "outputs": [
    {
     "data": {
      "text/plain": [
       "Tuple{Float32, Float32, Float32}"
      ]
     },
     "execution_count": 8,
     "metadata": {},
     "output_type": "execute_result"
    }
   ],
   "source": [
    "typeof(promote(Int8(1), Float16(4.5), Float32(4.1)))"
   ]
  },
  {
   "cell_type": "markdown",
   "id": "d1a41463-6fd9-4f56-a5cc-be7f15929831",
   "metadata": {},
   "source": [
    "#### Примеры определения функций"
   ]
  },
  {
   "cell_type": "code",
   "execution_count": 9,
   "id": "f9433bc7-1963-4d8d-8256-c886334f30a1",
   "metadata": {},
   "outputs": [
    {
     "data": {
      "text/plain": [
       "f (generic function with 1 method)"
      ]
     },
     "execution_count": 9,
     "metadata": {},
     "output_type": "execute_result"
    }
   ],
   "source": [
    "function f(x)\n",
    "    x^2\n",
    "end"
   ]
  },
  {
   "cell_type": "code",
   "execution_count": 10,
   "id": "7e80d485-9a03-4b45-8da3-d5802d75c95b",
   "metadata": {},
   "outputs": [
    {
     "data": {
      "text/plain": [
       "16"
      ]
     },
     "execution_count": 10,
     "metadata": {},
     "output_type": "execute_result"
    }
   ],
   "source": [
    "f(4)"
   ]
  },
  {
   "cell_type": "code",
   "execution_count": 11,
   "id": "d675ad14-32e1-4549-b06f-567fa1f9e938",
   "metadata": {},
   "outputs": [
    {
     "data": {
      "text/plain": [
       "g (generic function with 1 method)"
      ]
     },
     "execution_count": 11,
     "metadata": {},
     "output_type": "execute_result"
    }
   ],
   "source": [
    "g(x)=x^2"
   ]
  },
  {
   "cell_type": "code",
   "execution_count": 12,
   "id": "5984ce82-11f3-4c4a-8ebd-e6f8f151f3a4",
   "metadata": {},
   "outputs": [
    {
     "data": {
      "text/plain": [
       "64"
      ]
     },
     "execution_count": 12,
     "metadata": {},
     "output_type": "execute_result"
    }
   ],
   "source": [
    "g(8)"
   ]
  },
  {
   "cell_type": "markdown",
   "id": "f72109a9-f6c8-4fb0-b696-8348e16a73d1",
   "metadata": {},
   "source": [
    "#### Примеры работы с массивами"
   ]
  },
  {
   "cell_type": "code",
   "execution_count": 13,
   "id": "665e62ea-09b0-453f-97d1-4797404f97bf",
   "metadata": {},
   "outputs": [
    {
     "data": {
      "text/plain": [
       "(7, 2)"
      ]
     },
     "execution_count": 13,
     "metadata": {},
     "output_type": "execute_result"
    }
   ],
   "source": [
    "a = [4 7 6] # вектор-строка\n",
    "b = [1, 2, 3] # вектор-столбец\n",
    "a[2], b[2] # вторые элементы векторов a и b"
   ]
  },
  {
   "cell_type": "code",
   "execution_count": 14,
   "id": "2a892d25-6f86-4493-81bb-b4c0cd1630e0",
   "metadata": {},
   "outputs": [
    {
     "data": {
      "text/plain": [
       "2×2 Matrix{Int64}:\n",
       " 1  2\n",
       " 3  4"
      ]
     },
     "execution_count": 14,
     "metadata": {},
     "output_type": "execute_result"
    }
   ],
   "source": [
    "a = 1; b = 2; c = 3; d = 4 # присвоение значений\n",
    "Am = [a b; c d] # матрица 2 x 2"
   ]
  },
  {
   "cell_type": "code",
   "execution_count": 15,
   "id": "9481df81-d7e8-4f24-a33f-032ed5af57cd",
   "metadata": {},
   "outputs": [
    {
     "data": {
      "text/plain": [
       "(1, 2, 3, 4)"
      ]
     },
     "execution_count": 15,
     "metadata": {},
     "output_type": "execute_result"
    }
   ],
   "source": [
    "Am[1,1], Am[1,2], Am[2,1], Am[2,2] # элементы матрицы Am"
   ]
  },
  {
   "cell_type": "code",
   "execution_count": 16,
   "id": "cfc9bcf0-93ca-489d-b37a-3ca4616d7e79",
   "metadata": {},
   "outputs": [
    {
     "data": {
      "text/plain": [
       "1×1 Matrix{Int64}:\n",
       " 27"
      ]
     },
     "execution_count": 16,
     "metadata": {},
     "output_type": "execute_result"
    }
   ],
   "source": [
    "aa = [1 2] # вектор-строка\n",
    "AA = [1 2; 3 4] # матрица 2 x 2\n",
    "aa*AA*aa' # умножение вектора-строки на матрицу и на весктор-столбец (операция траспонирования)"
   ]
  },
  {
   "cell_type": "code",
   "execution_count": 17,
   "id": "02e70fb6-64ef-454c-b43f-31746148f9c0",
   "metadata": {},
   "outputs": [
    {
     "data": {
      "text/plain": [
       "([1 2], [1 2; 3 4], [1; 2;;])"
      ]
     },
     "execution_count": 17,
     "metadata": {},
     "output_type": "execute_result"
    }
   ],
   "source": [
    "aa, AA, aa'"
   ]
  },
  {
   "cell_type": "markdown",
   "id": "51ce3292-62be-456e-b75b-27a0ee57a93b",
   "metadata": {},
   "source": [
    "#### Примеры работы с функциями для чтения/записи/вывода информации на экран"
   ]
  },
  {
   "cell_type": "code",
   "execution_count": 18,
   "id": "72bd0ca7-1c55-4d98-a7cb-79f18ca74bde",
   "metadata": {},
   "outputs": [
    {
     "data": {
      "text/plain": [
       "31"
      ]
     },
     "execution_count": 18,
     "metadata": {},
     "output_type": "execute_result"
    }
   ],
   "source": [
    "write(\"myfile.txt\", \"Hello, world!\\nMy name is Olya.\\n\")"
   ]
  },
  {
   "cell_type": "code",
   "execution_count": 19,
   "id": "019d0d71-d5a1-4d77-a7af-2328539a895f",
   "metadata": {},
   "outputs": [
    {
     "data": {
      "text/plain": [
       "\"Hello, world!\\nMy name is Olya.\\n\""
      ]
     },
     "execution_count": 19,
     "metadata": {},
     "output_type": "execute_result"
    }
   ],
   "source": [
    "io = open(\"myfile.txt\", \"r\")\n",
    "read(io, String)"
   ]
  },
  {
   "cell_type": "code",
   "execution_count": 20,
   "id": "4b78ef44-0248-45b9-9605-1272f68dbee2",
   "metadata": {},
   "outputs": [
    {
     "data": {
      "text/plain": [
       "\"Hello, world!\""
      ]
     },
     "execution_count": 20,
     "metadata": {},
     "output_type": "execute_result"
    }
   ],
   "source": [
    "readline(\"myfile.txt\")"
   ]
  },
  {
   "cell_type": "code",
   "execution_count": 21,
   "id": "5180fd72-2bf5-462c-aa6b-48e5ef0862ac",
   "metadata": {},
   "outputs": [
    {
     "data": {
      "text/plain": [
       "2-element Vector{String}:\n",
       " \"Hello, world!\"\n",
       " \"My name is Olya.\""
      ]
     },
     "execution_count": 21,
     "metadata": {},
     "output_type": "execute_result"
    }
   ],
   "source": [
    "readlines(\"myfile.txt\")"
   ]
  },
  {
   "cell_type": "code",
   "execution_count": 22,
   "id": "7ae3f448-7509-4954-b12e-868358ec2980",
   "metadata": {},
   "outputs": [
    {
     "name": "stdout",
     "output_type": "stream",
     "text": [
      "Hello, World!"
     ]
    }
   ],
   "source": [
    "print(\"Hello, World!\")"
   ]
  },
  {
   "cell_type": "code",
   "execution_count": 23,
   "id": "8702820b-37f5-41c9-9761-e81bba9185d8",
   "metadata": {},
   "outputs": [
    {
     "name": "stdout",
     "output_type": "stream",
     "text": [
      "Hello, world.\n"
     ]
    }
   ],
   "source": [
    "println(\"Hello\", ',', \" world.\")"
   ]
  },
  {
   "cell_type": "code",
   "execution_count": 24,
   "id": "6c9c1bab-e171-4121-9472-57bcec2d4de6",
   "metadata": {},
   "outputs": [
    {
     "name": "stdout",
     "output_type": "stream",
     "text": [
      "\"Hello, World!\""
     ]
    }
   ],
   "source": [
    "show(\"Hello, World!\")"
   ]
  },
  {
   "cell_type": "markdown",
   "id": "e00a1273-f331-45ef-a8f5-0460db14d2c6",
   "metadata": {},
   "source": [
    "#### Пример работы с функцией parse"
   ]
  },
  {
   "cell_type": "code",
   "execution_count": 25,
   "id": "b0a9a4b3-3394-4f79-91f0-1078e539e6a9",
   "metadata": {},
   "outputs": [
    {
     "data": {
      "text/plain": [
       ":((4 + 4) / 2)"
      ]
     },
     "execution_count": 25,
     "metadata": {},
     "output_type": "execute_result"
    }
   ],
   "source": [
    "ex1 = Meta.parse(\"(4 + 4) / 2\")"
   ]
  },
  {
   "cell_type": "markdown",
   "id": "e95ab05a-b544-4949-a356-c7dde2af9794",
   "metadata": {},
   "source": [
    "#### Примеры работы базовых математических операций"
   ]
  },
  {
   "cell_type": "code",
   "execution_count": 26,
   "id": "01c3938e-b208-455f-9967-76d9e6c91c28",
   "metadata": {},
   "outputs": [
    {
     "data": {
      "text/plain": [
       "2"
      ]
     },
     "execution_count": 26,
     "metadata": {},
     "output_type": "execute_result"
    }
   ],
   "source": [
    "1 + 1"
   ]
  },
  {
   "cell_type": "code",
   "execution_count": 27,
   "id": "dd802e45-adaa-4883-9ab4-fa6a0adfa6ed",
   "metadata": {},
   "outputs": [
    {
     "data": {
      "text/plain": [
       "4.0"
      ]
     },
     "execution_count": 27,
     "metadata": {},
     "output_type": "execute_result"
    }
   ],
   "source": [
    "5 - 1.0"
   ]
  },
  {
   "cell_type": "code",
   "execution_count": 28,
   "id": "b9f31d09-395a-47ba-878d-648a917cde9e",
   "metadata": {},
   "outputs": [
    {
     "data": {
      "text/plain": [
       "6.0"
      ]
     },
     "execution_count": 28,
     "metadata": {},
     "output_type": "execute_result"
    }
   ],
   "source": [
    "2.0 * 3.0"
   ]
  },
  {
   "cell_type": "code",
   "execution_count": 29,
   "id": "ed7fcc12-ea0a-4ee8-8466-e47051c5b924",
   "metadata": {},
   "outputs": [
    {
     "data": {
      "text/plain": [
       "3.0"
      ]
     },
     "execution_count": 29,
     "metadata": {},
     "output_type": "execute_result"
    }
   ],
   "source": [
    "6 / 2"
   ]
  },
  {
   "cell_type": "code",
   "execution_count": 30,
   "id": "f4670d5c-25ac-491d-abfe-65eec7fbf810",
   "metadata": {},
   "outputs": [
    {
     "data": {
      "text/plain": [
       "2"
      ]
     },
     "execution_count": 30,
     "metadata": {},
     "output_type": "execute_result"
    }
   ],
   "source": [
    "5 ÷ 2"
   ]
  },
  {
   "cell_type": "code",
   "execution_count": 31,
   "id": "aa6f06f9-a0ab-4093-af30-ba150bb68188",
   "metadata": {},
   "outputs": [
    {
     "data": {
      "text/plain": [
       "1.0"
      ]
     },
     "execution_count": 31,
     "metadata": {},
     "output_type": "execute_result"
    }
   ],
   "source": [
    "7.0 % 6"
   ]
  },
  {
   "cell_type": "code",
   "execution_count": 32,
   "id": "584fe3b7-86fd-4393-806a-4cb5ad3383e7",
   "metadata": {},
   "outputs": [
    {
     "data": {
      "text/plain": [
       "32"
      ]
     },
     "execution_count": 32,
     "metadata": {},
     "output_type": "execute_result"
    }
   ],
   "source": [
    "2^5"
   ]
  },
  {
   "cell_type": "code",
   "execution_count": 33,
   "id": "8104f1c4-2d77-4770-8fd3-0b418ddfb929",
   "metadata": {},
   "outputs": [
    {
     "data": {
      "text/plain": [
       "true"
      ]
     },
     "execution_count": 33,
     "metadata": {},
     "output_type": "execute_result"
    }
   ],
   "source": [
    "1 == 1"
   ]
  },
  {
   "cell_type": "code",
   "execution_count": 34,
   "id": "988c3913-6d0f-469d-9bb9-17bfb8c38e0b",
   "metadata": {},
   "outputs": [
    {
     "data": {
      "text/plain": [
       "false"
      ]
     },
     "execution_count": 34,
     "metadata": {},
     "output_type": "execute_result"
    }
   ],
   "source": [
    "2 != 2"
   ]
  },
  {
   "cell_type": "code",
   "execution_count": 35,
   "id": "4bba5e66-8656-40b1-bb3e-566b9032c738",
   "metadata": {},
   "outputs": [
    {
     "data": {
      "text/plain": [
       "false"
      ]
     },
     "execution_count": 35,
     "metadata": {},
     "output_type": "execute_result"
    }
   ],
   "source": [
    "2.0 < 2"
   ]
  },
  {
   "cell_type": "code",
   "execution_count": 36,
   "id": "f8bf9ddc-9ab7-4ac5-9160-40b032dfc7ed",
   "metadata": {},
   "outputs": [
    {
     "data": {
      "text/plain": [
       "true"
      ]
     },
     "execution_count": 36,
     "metadata": {},
     "output_type": "execute_result"
    }
   ],
   "source": [
    "3 >= 2.5"
   ]
  },
  {
   "cell_type": "code",
   "execution_count": 37,
   "id": "ea544d12-4c5c-4f9d-8ff1-0de3de1f374d",
   "metadata": {},
   "outputs": [
    {
     "data": {
      "text/plain": [
       "false"
      ]
     },
     "execution_count": 37,
     "metadata": {},
     "output_type": "execute_result"
    }
   ],
   "source": [
    "x = true\n",
    "!x"
   ]
  },
  {
   "cell_type": "code",
   "execution_count": 38,
   "id": "f6fb194d-d9e6-4cf3-94a5-d7db56767d8c",
   "metadata": {},
   "outputs": [
    {
     "data": {
      "text/plain": [
       "true"
      ]
     },
     "execution_count": 38,
     "metadata": {},
     "output_type": "execute_result"
    }
   ],
   "source": [
    "x = true\n",
    "y = false\n",
    "x || y"
   ]
  },
  {
   "cell_type": "markdown",
   "id": "db196136-4973-434c-994d-5d0558e778f0",
   "metadata": {},
   "source": [
    "#### Примеры работы с операциями над матрицами"
   ]
  },
  {
   "cell_type": "code",
   "execution_count": 39,
   "id": "0624576d-19b4-4026-ada4-ba2339e9eff0",
   "metadata": {},
   "outputs": [
    {
     "data": {
      "text/plain": [
       "3×3 Matrix{Int64}:\n",
       " 1  2  3\n",
       " 4  1  6\n",
       " 7  8  1"
      ]
     },
     "execution_count": 39,
     "metadata": {},
     "output_type": "execute_result"
    }
   ],
   "source": [
    "using LinearAlgebra\n",
    "A = [1 2 3; 4 1 6; 7 8 1]"
   ]
  },
  {
   "cell_type": "code",
   "execution_count": 40,
   "id": "92f08e16-bbf7-4b30-a3ec-f5bda80febd0",
   "metadata": {},
   "outputs": [
    {
     "data": {
      "text/plain": [
       "104.0"
      ]
     },
     "execution_count": 40,
     "metadata": {},
     "output_type": "execute_result"
    }
   ],
   "source": [
    "det(A)"
   ]
  },
  {
   "cell_type": "code",
   "execution_count": 41,
   "id": "9baf8266-ea36-4a1c-bab3-f92084f1dbfc",
   "metadata": {},
   "outputs": [
    {
     "data": {
      "text/plain": [
       "3"
      ]
     },
     "execution_count": 41,
     "metadata": {},
     "output_type": "execute_result"
    }
   ],
   "source": [
    "tr(A)"
   ]
  },
  {
   "cell_type": "code",
   "execution_count": 42,
   "id": "60120029-a7f2-435d-b431-1de5c0ef2b56",
   "metadata": {},
   "outputs": [
    {
     "data": {
      "text/plain": [
       "3×3 Matrix{Float64}:\n",
       " -0.451923   0.211538    0.0865385\n",
       "  0.365385  -0.192308    0.0576923\n",
       "  0.240385   0.0576923  -0.0673077"
      ]
     },
     "execution_count": 42,
     "metadata": {},
     "output_type": "execute_result"
    }
   ],
   "source": [
    "inv(A)"
   ]
  },
  {
   "cell_type": "code",
   "execution_count": 43,
   "id": "17b9b230-75bd-42fb-9c52-a333ddd41155",
   "metadata": {},
   "outputs": [
    {
     "data": {
      "text/plain": [
       "3×3 Matrix{Int64}:\n",
       " 0  1  2\n",
       " 3  0  5\n",
       " 6  7  0"
      ]
     },
     "execution_count": 43,
     "metadata": {},
     "output_type": "execute_result"
    }
   ],
   "source": [
    "B = [1 1 1; 1 1 1; 1 1 1]\n",
    "A - B\n"
   ]
  },
  {
   "cell_type": "code",
   "execution_count": 44,
   "id": "6f634e4d-ad1a-4bad-a06f-cca4f5a88c60",
   "metadata": {},
   "outputs": [
    {
     "data": {
      "text/plain": [
       "3×3 Matrix{Int64}:\n",
       " 2  3  4\n",
       " 5  2  7\n",
       " 8  9  2"
      ]
     },
     "execution_count": 44,
     "metadata": {},
     "output_type": "execute_result"
    }
   ],
   "source": [
    "A + B"
   ]
  },
  {
   "cell_type": "code",
   "execution_count": 45,
   "id": "ed1bca70-15d9-43b5-a251-2db4d293bc9c",
   "metadata": {},
   "outputs": [
    {
     "data": {
      "text/plain": [
       "3×3 Matrix{Int64}:\n",
       "  6   6   6\n",
       " 11  11  11\n",
       " 16  16  16"
      ]
     },
     "execution_count": 45,
     "metadata": {},
     "output_type": "execute_result"
    }
   ],
   "source": [
    "A * B"
   ]
  }
 ],
 "metadata": {
  "kernelspec": {
   "display_name": "Julia 1.11.2",
   "language": "julia",
   "name": "julia-1.11"
  },
  "language_info": {
   "file_extension": ".jl",
   "mimetype": "application/julia",
   "name": "julia",
   "version": "1.11.2"
  }
 },
 "nbformat": 4,
 "nbformat_minor": 5
}
